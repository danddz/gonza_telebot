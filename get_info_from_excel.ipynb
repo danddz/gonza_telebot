{
 "cells": [
  {
   "cell_type": "code",
   "execution_count": 30,
   "id": "b909d14a",
   "metadata": {},
   "outputs": [],
   "source": [
    "import openpyxl\n",
    "from openpyxl_image_loader import SheetImageLoader\n",
    "\n",
    "#loading the Excel File and the sheet\n",
    "wb = openpyxl.load_workbook('files/menu.xlsx')\n",
    "sheet = wb['Салаты']\n",
    "\n",
    "#calling the image_loader\n",
    "image_loader = SheetImageLoader(sheet)\n",
    "\n",
    "#get the image (put the cell you need instead of 'A1')\n",
    "try:\n",
    "    image = image_loader.get('B2')\n",
    "except ValueError:\n",
    "    print(1)\n",
    "\n",
    "#showing the image\n",
    "# image.show()\n",
    "\n",
    "#saving the image\n",
    "# image.save('my_path/image_name.jpg')"
   ]
  },
  {
   "cell_type": "code",
   "execution_count": 12,
   "id": "09e29411",
   "metadata": {},
   "outputs": [],
   "source": [
    "def get_count_rows(sheet):\n",
    "    max_row = 0\n",
    "    while sheet.cell(row = max_row + 1, column = 1).value:\n",
    "        max_row += 1\n",
    "    return max_row"
   ]
  },
  {
   "cell_type": "code",
   "execution_count": 13,
   "id": "daa93402",
   "metadata": {},
   "outputs": [
    {
     "data": {
      "text/plain": [
       "['Салаты',\n",
       " 'Закуски',\n",
       " 'Супы',\n",
       " 'Хинкали и пельмени',\n",
       " 'Хачапури',\n",
       " 'Пицца',\n",
       " 'Япония',\n",
       " 'Морепродукты',\n",
       " 'Стейки',\n",
       " 'Бургеры',\n",
       " 'Гриль',\n",
       " 'Горячие блюда',\n",
       " 'Гарниры']"
      ]
     },
     "execution_count": 13,
     "metadata": {},
     "output_type": "execute_result"
    }
   ],
   "source": [
    "wb.sheetnames"
   ]
  },
  {
   "cell_type": "code",
   "execution_count": 14,
   "id": "66e1e157",
   "metadata": {},
   "outputs": [
    {
     "data": {
      "text/plain": [
       "17"
      ]
     },
     "execution_count": 14,
     "metadata": {},
     "output_type": "execute_result"
    }
   ],
   "source": [
    "get_count_rows(sheet)"
   ]
  },
  {
   "cell_type": "code",
   "execution_count": 15,
   "id": "af6e226e",
   "metadata": {},
   "outputs": [
    {
     "data": {
      "text/plain": [
       "13"
      ]
     },
     "execution_count": 15,
     "metadata": {},
     "output_type": "execute_result"
    }
   ],
   "source": [
    "len(wb.sheetnames)"
   ]
  },
  {
   "cell_type": "code",
   "execution_count": 17,
   "id": "4f8d1238",
   "metadata": {},
   "outputs": [
    {
     "data": {
      "text/plain": [
       "'Название'"
      ]
     },
     "execution_count": 17,
     "metadata": {},
     "output_type": "execute_result"
    }
   ],
   "source": [
    "sheet['A1'].value"
   ]
  },
  {
   "cell_type": "code",
   "execution_count": null,
   "id": "9586c626",
   "metadata": {},
   "outputs": [],
   "source": []
  },
  {
   "cell_type": "code",
   "execution_count": null,
   "id": "4aae5ecf",
   "metadata": {},
   "outputs": [],
   "source": []
  },
  {
   "cell_type": "code",
   "execution_count": 31,
   "id": "678fccf7",
   "metadata": {},
   "outputs": [],
   "source": []
  },
  {
   "cell_type": "code",
   "execution_count": null,
   "id": "625f484d",
   "metadata": {},
   "outputs": [],
   "source": []
  }
 ],
 "metadata": {
  "kernelspec": {
   "display_name": "Python 3 (ipykernel)",
   "language": "python",
   "name": "python3"
  },
  "language_info": {
   "codemirror_mode": {
    "name": "ipython",
    "version": 3
   },
   "file_extension": ".py",
   "mimetype": "text/x-python",
   "name": "python",
   "nbconvert_exporter": "python",
   "pygments_lexer": "ipython3",
   "version": "3.9.13"
  }
 },
 "nbformat": 4,
 "nbformat_minor": 5
}
